{
 "cells": [
  {
   "cell_type": "markdown",
   "metadata": {},
   "source": [
    "# Snail and well\n",
    "\n",
    "A snail falls at the bottom of a 125 cm well. Each day the snail rises 30 cm. But at night, while sleeping, slides 20 cm because the walls are wet. How many days does it take to escape from the well?\n",
    "\n",
    "TIP: http://puzzles.nigelcoldwell.co.uk/sixtytwo.htm"
   ]
  },
  {
   "cell_type": "markdown",
   "metadata": {},
   "source": [
    "## Solución"
   ]
  },
  {
   "cell_type": "code",
   "execution_count": 6,
   "metadata": {},
   "outputs": [
    {
     "name": "stdout",
     "output_type": "stream",
     "text": [
      "Number days 11\n"
     ]
    }
   ],
   "source": [
    "from math import *\n",
    "\n",
    "# Assign problem data to variables with representative names\n",
    "# well height, daily advance, night retreat, accumulated distance\n",
    "\n",
    "\n",
    "# Assign 0 to the variable that represents the solution\n",
    "\n",
    "\n",
    "# Write the code that solves the problem\n",
    "\n",
    "\n",
    "# Print the result with print('Days =', days)\n",
    "\n",
    "# Assign problem data to variables with representative names\n",
    "# well height, daily advance, night retreat, accumulated distance\n",
    "\n",
    "well_height=125 \n",
    "daily_advance= 30\n",
    "night_retreat= 20 \n",
    "accumulated_distance=0\n",
    "days=0\n",
    "\n",
    "\n",
    "while accumulated_distance < well_height:\n",
    "    accumulated_distance += daily_advance\n",
    "    days +=1\n",
    "    if accumulated_distance<well_height:\n",
    "        accumulated_distance-= night_retreat\n",
    "    \n",
    "print(\"Number days\", days)\n",
    "\n"
   ]
  },
  {
   "cell_type": "markdown",
   "metadata": {},
   "source": [
    "## Goals\n",
    "\n",
    "1. Treatment of variables\n",
    "2. Use of loop **while**\n",
    "3. Use of conditional **if-else**\n",
    "4. Print in console"
   ]
  },
  {
   "cell_type": "markdown",
   "metadata": {},
   "source": [
    "## Bonus\n",
    "The distance traveled by the snail is now defined by a list.\n",
    "```\n",
    "advance_cm = [30, 21, 33, 77, 44, 45, 23, 45, 12, 34, 55]\n",
    "```\n",
    "How long does it take to raise the well?\n",
    "\n",
    "What is its maximum displacement in one day? And its minimum?\n",
    "\n",
    "What is its average speed during the day?\n",
    "\n",
    "What is the standard deviation of its displacement during the day?"
   ]
  },
  {
   "cell_type": "code",
   "execution_count": 7,
   "metadata": {},
   "outputs": [
    {
     "name": "stdout",
     "output_type": "stream",
     "text": [
      "Number of days 11\n",
      "Maximum displacement 77\n",
      "Minimum displacement 12\n",
      "The average speed 38.09090909090909\n",
      "[65.46280991735541, 292.0991735537191, 25.917355371900854, 1513.9173553719006, 34.9173553719008, 47.73553719008261, 227.7355371900827, 47.73553719008261, 680.7355371900828, 16.735537190082667, 285.9173553719007]\n",
      "Standard deviation 17.159437082600803\n"
     ]
    }
   ],
   "source": [
    "# Assign problem data to variables with representative names\n",
    "# well height, daily advance, night retreat, accumulated distance\n",
    "\n",
    "\n",
    "# Assign 0 to the variable that represents the solution\n",
    "# Write the code that solves the problem\n",
    "# Print the result with print('Days =', days)\n",
    "\n",
    "advance_cm = [30, 21, 33, 77, 44, 45, 23, 45, 12, 34, 55]\n",
    "\n",
    "#How long does it take to raise the well?\n",
    "number_days=len(advance_cm)\n",
    "print(\"Number of days\",number_days)\n",
    "\n",
    "\n",
    "# What is its maximum displacement in a day? And its minimum?\n",
    "maximum_displacement= max(advance_cm)\n",
    "print(\"Maximum displacement\",maximum_displacement)\n",
    "minimum_displacement=min(advance_cm)\n",
    "print(\"Minimum displacement\",minimum_displacement)\n",
    "\n",
    "\n",
    "# What is its average progress?\n",
    "average_speed=sum(advance_cm)/number_days\n",
    "print(\"The average speed\", average_speed)\n",
    "\n",
    "\n",
    "# What is the standard deviation of your displacement during the day?\n",
    "liste=[]\n",
    "for i in range(number_days):\n",
    "    a = (advance_cm[i]-average_speed)**2\n",
    "    liste.append(a)\n",
    "print(liste)\n",
    "\n",
    "standard_deviation=sqrt(sum(liste)/number_days)\n",
    "print(\"Standard deviation\", standard_deviation)\n",
    "\n"
   ]
  },
  {
   "cell_type": "code",
   "execution_count": null,
   "metadata": {},
   "outputs": [],
   "source": []
  }
 ],
 "metadata": {
  "kernelspec": {
   "display_name": "Python 3",
   "language": "python",
   "name": "python3"
  },
  "language_info": {
   "codemirror_mode": {
    "name": "ipython",
    "version": 3
   },
   "file_extension": ".py",
   "mimetype": "text/x-python",
   "name": "python",
   "nbconvert_exporter": "python",
   "pygments_lexer": "ipython3",
   "version": "3.7.0"
  }
 },
 "nbformat": 4,
 "nbformat_minor": 2
}
